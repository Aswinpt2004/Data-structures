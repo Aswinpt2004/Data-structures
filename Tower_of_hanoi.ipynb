{
  "nbformat": 4,
  "nbformat_minor": 0,
  "metadata": {
    "colab": {
      "provenance": [],
      "authorship_tag": "ABX9TyOd3Hng14d8WkjkUxDOnIPY",
      "include_colab_link": true
    },
    "kernelspec": {
      "name": "python3",
      "display_name": "Python 3"
    },
    "language_info": {
      "name": "python"
    }
  },
  "cells": [
    {
      "cell_type": "markdown",
      "metadata": {
        "id": "view-in-github",
        "colab_type": "text"
      },
      "source": [
        "<a href=\"https://colab.research.google.com/github/Aswinpt2004/Data-structures/blob/main/Tower_of_hanoi.ipynb\" target=\"_parent\"><img src=\"https://colab.research.google.com/assets/colab-badge.svg\" alt=\"Open In Colab\"/></a>"
      ]
    },
    {
      "cell_type": "markdown",
      "source": [],
      "metadata": {
        "id": "19ylSp99rRTH"
      }
    },
    {
      "cell_type": "code",
      "execution_count": 2,
      "metadata": {
        "id": "UW68AnxE-vKg",
        "colab": {
          "base_uri": "https://localhost:8080/"
        },
        "outputId": "331b4bd7-d4df-4250-ad76-8a3c337bcaa5"
      },
      "outputs": [
        {
          "output_type": "stream",
          "name": "stdout",
          "text": [
            "Enter the number of disks :4\n",
            "Move disk 1 from A to B\n",
            "Move disk 2 from A to C\n",
            "Move disk 1 from B to C\n",
            "Move disk 3 from A to B\n",
            "Move disk 1 from C to A\n",
            "Move disk 2 from C to B\n",
            "Move disk 1 from A to B\n",
            "Move disk 4 from A to C\n",
            "Move disk 1 from B to C\n",
            "Move disk 2 from B to A\n",
            "Move disk 1 from C to A\n",
            "Move disk 3 from B to C\n",
            "Move disk 1 from A to B\n",
            "Move disk 2 from A to C\n",
            "Move disk 1 from B to C\n",
            "Total move: 15\n"
          ]
        }
      ],
      "source": [
        "def towerofhanoi(n, a, b, c):\n",
        "    global moves\n",
        "    if n == 1:\n",
        "        print(\"Move disk 1 from\", a, \"to\", b)\n",
        "        moves += 1\n",
        "        return\n",
        "    towerofhanoi(n - 1, a, c, b)\n",
        "    print(f\"Move disk\", n, \"from\", a, \"to\", b)\n",
        "    towerofhanoi(n - 1, c, b, a)\n",
        "    moves += 1\n",
        "\n",
        "\n",
        "n = int(input(\"Enter the number of disks :\"))\n",
        "moves = 0\n",
        "towerofhanoi(n, 'A', 'C', 'B')\n",
        "print(\"Total move:\", moves)"
      ]
    },
    {
      "cell_type": "code",
      "source": [],
      "metadata": {
        "id": "qvw54HvgrPVN"
      },
      "execution_count": null,
      "outputs": []
    },
    {
      "cell_type": "markdown",
      "source": [],
      "metadata": {
        "id": "daAXe44frP6d"
      }
    },
    {
      "cell_type": "code",
      "source": [],
      "metadata": {
        "id": "IOn1SCyQBjOY"
      },
      "execution_count": null,
      "outputs": []
    }
  ]
}